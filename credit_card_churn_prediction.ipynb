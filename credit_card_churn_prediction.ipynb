{
 "cells": [
  {
   "cell_type": "markdown",
   "id": "578e1734",
   "metadata": {},
   "source": [
    "## Upload kaggle.json file\n",
    "This allows access to Kaggle datasets from Colab."
   ]
  },
  {
   "cell_type": "code",
   "execution_count": null,
   "id": "f94fd7f6",
   "metadata": {},
   "outputs": [],
   "source": [
    "from google.colab import files\n",
    "files.upload()"
   ]
  },
  {
   "cell_type": "markdown",
   "id": "98502160",
   "metadata": {},
   "source": [
    "## Set up Kaggle API key\n",
    "We move `kaggle.json` to the correct directory and give it proper permissions."
   ]
  },
  {
   "cell_type": "code",
   "execution_count": null,
   "id": "fa93a139",
   "metadata": {},
   "outputs": [],
   "source": [
    "!mkdir -p ~/.kaggle\n",
    "!cp kaggle.json ~/.kaggle/\n",
    "!chmod 600 ~/.kaggle/kaggle.json"
   ]
  },
  {
   "cell_type": "markdown",
   "id": "bcc6d0bd",
   "metadata": {},
   "source": [
    "## Download dataset from Kaggle"
   ]
  },
  {
   "cell_type": "code",
   "execution_count": null,
   "id": "c21b5326",
   "metadata": {},
   "outputs": [],
   "source": [
    "!kaggle datasets download -d rjmanoj/credit-card-customer-churn-prediction"
   ]
  },
  {
   "cell_type": "markdown",
   "id": "82d9ff1b",
   "metadata": {},
   "source": [
    "## Unzip dataset"
   ]
  },
  {
   "cell_type": "code",
   "execution_count": null,
   "id": "676c66e5",
   "metadata": {},
   "outputs": [],
   "source": [
    "!unzip credit-card-customer-churn-prediction.zip"
   ]
  },
  {
   "cell_type": "markdown",
   "id": "730eedf6",
   "metadata": {},
   "source": [
    "## Load dataset using Pandas"
   ]
  },
  {
   "cell_type": "code",
   "execution_count": null,
   "id": "f8c48441",
   "metadata": {},
   "outputs": [],
   "source": [
    "import pandas as pd\n",
    "import numpy as np\n",
    "df = pd.read_csv(\"Churn_Modelling.csv\")\n",
    "df.head()"
   ]
  },
  {
   "cell_type": "markdown",
   "id": "57f0dd16",
   "metadata": {},
   "source": [
    "## Dataset Information"
   ]
  },
  {
   "cell_type": "code",
   "execution_count": null,
   "id": "54791205",
   "metadata": {},
   "outputs": [],
   "source": [
    "df.info()"
   ]
  },
  {
   "cell_type": "markdown",
   "id": "939b972a",
   "metadata": {},
   "source": [
    "## Check for duplicates"
   ]
  },
  {
   "cell_type": "code",
   "execution_count": null,
   "id": "0a86731f",
   "metadata": {},
   "outputs": [],
   "source": [
    "df.duplicated().sum()"
   ]
  },
  {
   "cell_type": "markdown",
   "id": "fe2daeab",
   "metadata": {},
   "source": [
    "## Drop irrelevant columns\n",
    "We remove `RowNumber`, `CustomerId`, and `Surname`. They don't help in prediction."
   ]
  },
  {
   "cell_type": "code",
   "execution_count": null,
   "id": "37526bd8",
   "metadata": {},
   "outputs": [],
   "source": [
    "df.drop(columns=['RowNumber','CustomerId','Surname'], inplace=True)\n",
    "df.head(3)"
   ]
  },
  {
   "cell_type": "markdown",
   "id": "948da160",
   "metadata": {},
   "source": [
    "## One-hot encode categorical columns\n",
    "We convert `Geography` and `Gender` into numerical columns."
   ]
  },
  {
   "cell_type": "code",
   "execution_count": null,
   "id": "e8da48a9",
   "metadata": {},
   "outputs": [],
   "source": [
    "df = pd.get_dummies(df, columns=['Geography','Gender'], drop_first=True)\n",
    "df.head(3)"
   ]
  },
  {
   "cell_type": "markdown",
   "id": "45b31519",
   "metadata": {},
   "source": [
    "## Split data into features (X) and target (y)"
   ]
  },
  {
   "cell_type": "code",
   "execution_count": null,
   "id": "9f75a510",
   "metadata": {},
   "outputs": [],
   "source": [
    "x = df.drop(columns='Exited')\n",
    "y = df['Exited']"
   ]
  },
  {
   "cell_type": "markdown",
   "id": "2cde2418",
   "metadata": {},
   "source": [
    "## Split dataset into training and testing sets"
   ]
  },
  {
   "cell_type": "code",
   "execution_count": null,
   "id": "0fb87b91",
   "metadata": {},
   "outputs": [],
   "source": [
    "from sklearn.model_selection import train_test_split\n",
    "\n",
    "X_train, X_test, Y_train, Y_test = train_test_split(x, y, test_size=0.2, random_state=42)"
   ]
  },
  {
   "cell_type": "markdown",
   "id": "83b33dbc",
   "metadata": {},
   "source": [
    "## Standardize features\n",
    "We use StandardScaler to normalize data."
   ]
  },
  {
   "cell_type": "code",
   "execution_count": null,
   "id": "c1cfd102",
   "metadata": {},
   "outputs": [],
   "source": [
    "from sklearn.preprocessing import StandardScaler\n",
    "\n",
    "scaler = StandardScaler()\n",
    "X_train_scale = scaler.fit_transform(X_train)\n",
    "X_test_scale = scaler.transform(X_test)"
   ]
  },
  {
   "cell_type": "markdown",
   "id": "8261ee35",
   "metadata": {},
   "source": [
    "## Build ANN Model"
   ]
  },
  {
   "cell_type": "code",
   "execution_count": null,
   "id": "2a5569a2",
   "metadata": {},
   "outputs": [],
   "source": [
    "import tensorflow\n",
    "from tensorflow import keras\n",
    "from keras import Sequential\n",
    "from keras.layers import Dense\n",
    "\n",
    "model = Sequential()\n",
    "model.add(Dense(8, activation='relu', input_dim=11))\n",
    "model.add(Dense(10, activation='relu'))\n",
    "model.add(Dense(1, activation='sigmoid'))\n",
    "\n",
    "model.summary()"
   ]
  },
  {
   "cell_type": "markdown",
   "id": "73a7fa8e",
   "metadata": {},
   "source": [
    "## Compile model"
   ]
  },
  {
   "cell_type": "code",
   "execution_count": null,
   "id": "5b89c8fd",
   "metadata": {},
   "outputs": [],
   "source": [
    "model.compile(loss='binary_crossentropy', optimizer='Adam', metrics=['accuracy'])"
   ]
  },
  {
   "cell_type": "markdown",
   "id": "ad40cb51",
   "metadata": {},
   "source": [
    "## Train model"
   ]
  },
  {
   "cell_type": "code",
   "execution_count": null,
   "id": "b4d1186d",
   "metadata": {},
   "outputs": [],
   "source": [
    "hist = model.fit(X_train_scale, Y_train, epochs=100, validation_split=0.2)"
   ]
  },
  {
   "cell_type": "markdown",
   "id": "d072a12b",
   "metadata": {},
   "source": [
    "## Plot training and validation loss"
   ]
  },
  {
   "cell_type": "code",
   "execution_count": null,
   "id": "4717f8be",
   "metadata": {},
   "outputs": [],
   "source": [
    "import matplotlib.pyplot as plt\n",
    "plt.plot(hist.history['loss'], label='Training Loss')\n",
    "plt.plot(hist.history['val_loss'], label='Validation Loss')\n",
    "plt.legend()\n",
    "plt.show()"
   ]
  },
  {
   "cell_type": "markdown",
   "id": "76ee72e9",
   "metadata": {},
   "source": [
    "## Make predictions"
   ]
  },
  {
   "cell_type": "code",
   "execution_count": null,
   "id": "63372399",
   "metadata": {},
   "outputs": [],
   "source": [
    "y_pred = np.where(model.predict(X_test_scale) > 0.5, 1, 0)\n",
    "y_pred[:10]"
   ]
  },
  {
   "cell_type": "markdown",
   "id": "d1508cc1",
   "metadata": {},
   "source": [
    "## Evaluate model performance"
   ]
  },
  {
   "cell_type": "code",
   "execution_count": null,
   "id": "5a0bb5ee",
   "metadata": {},
   "outputs": [],
   "source": [
    "from sklearn.metrics import accuracy_score\n",
    "accuracy_score(Y_test, y_pred)"
   ]
  },
  {
   "cell_type": "markdown",
   "id": "d22907d8",
   "metadata": {},
   "source": [
    "## Predict on a sample customer"
   ]
  },
  {
   "cell_type": "code",
   "execution_count": null,
   "id": "446bff31",
   "metadata": {},
   "outputs": [],
   "source": [
    "sample_customer = {\n",
    "    \"CreditScore\": 600,\n",
    "    \"Age\": 40,\n",
    "    \"Tenure\": 3,\n",
    "    \"Balance\": 60000,\n",
    "    \"NumOfProducts\": 2,\n",
    "    \"HasCrCard\": 1,\n",
    "    \"IsActiveMember\": 1,\n",
    "    \"EstimatedSalary\": 50000,\n",
    "    \"Geography_Germany\": 0,\n",
    "    \"Geography_Spain\": 1,\n",
    "    \"Gender_Male\": 1\n",
    "}\n",
    "sample_df = pd.DataFrame([sample_customer])\n",
    "sample_df = sample_df[X_train.columns]\n",
    "sample_scaled = scaler.transform(sample_df)\n",
    "prediction = model.predict(sample_scaled)\n",
    "threshold = 0.3\n",
    "result = \"Exit (Churn)\" if prediction[0][0] > threshold else \"Stay\"\n",
    "\n",
    "print(\"Prediction Probability:\", prediction[0][0])\n",
    "print(\"Final Prediction:\", result)"
   ]
  }
 ],
 "metadata": {},
 "nbformat": 4,
 "nbformat_minor": 5
}